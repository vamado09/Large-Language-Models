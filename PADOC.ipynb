{
  "nbformat": 4,
  "nbformat_minor": 0,
  "metadata": {
    "colab": {
      "provenance": []
    },
    "kernelspec": {
      "name": "python3",
      "display_name": "Python 3"
    },
    "language_info": {
      "name": "python"
    }
  },
  "cells": [
    {
      "cell_type": "markdown",
      "source": [
        "# ChatGPT - Virtual Tissue Simulation"
      ],
      "metadata": {
        "id": "jXxZrBLwaV4Z"
      }
    },
    {
      "cell_type": "markdown",
      "source": [
        "Pandoc is a tool designed to convert documents between various markup formats. In our project, we'll use Pandoc to transform our Knowledge Objects, currently in Word document format, into LaTeX, PDF, HTML, or any other format we might require. Considering that we are using a variety of operating systems, including Mac, Microsoft Windows, and Linux, I've decided to utilize Google Colab. This approach should make the process more accessible and user-friendly for everyone involved."
      ],
      "metadata": {
        "id": "Vk7AfyWbZPRa"
      }
    },
    {
      "cell_type": "code",
      "source": [
        "import subprocess\n",
        "import os"
      ],
      "metadata": {
        "id": "YLiRAKfNanEm"
      },
      "execution_count": null,
      "outputs": []
    },
    {
      "cell_type": "markdown",
      "source": [
        "## Installing Pandoc"
      ],
      "metadata": {
        "id": "Wc2fsAedagVW"
      }
    },
    {
      "cell_type": "code",
      "source": [
        "!apt-get install pandoc # Pandoc\n",
        "\n",
        "def convert_docx_to_md(docx_file, md_file):\n",
        "    try:\n",
        "        subprocess.run(['pandoc', '-s', docx_file, '-t', 'markdown', '-o', md_file], check=True)\n",
        "        print(f\"Conversion successful: '{docx_file}' to '{md_file}'\")\n",
        "    except subprocess.CalledProcessError as e:\n",
        "        print(f\"An error occurred: {e}\")\n",
        "\n",
        "# Example usage\n",
        "docx_path = 'word_doc.docx'\n",
        "md_path = 'document.md'\n",
        "convert_docx_to_md(docx_path, md_path)"
      ],
      "metadata": {
        "id": "m8hD5tOqU6Zc"
      },
      "execution_count": null,
      "outputs": []
    },
    {
      "cell_type": "code",
      "source": [
        "!apt-get install pandoc # Pandoc"
      ],
      "metadata": {
        "id": "X-7a1oMZUrxn",
        "colab": {
          "base_uri": "https://localhost:8080/"
        },
        "outputId": "71899005-f8d3-48b7-902e-d83484a2196f"
      },
      "execution_count": null,
      "outputs": [
        {
          "output_type": "stream",
          "name": "stdout",
          "text": [
            "Reading package lists... Done\n",
            "Building dependency tree... Done\n",
            "Reading state information... Done\n",
            "pandoc is already the newest version (2.9.2.1-3ubuntu2).\n",
            "pandoc set to manually installed.\n",
            "0 upgraded, 0 newly installed, 0 to remove and 39 not upgraded.\n"
          ]
        }
      ]
    },
    {
      "cell_type": "code",
      "source": [
        "def convert_docx_to_md(docx_file, md_file):\n",
        "    try:\n",
        "        subprocess.run(['pandoc', '-s', docx_file, '-t', 'markdown', '-o', md_file], check=True)\n",
        "        print(f\"Conversion successful: '{docx_file}' to '{md_file}'\")\n",
        "    except subprocess.CalledProcessError as e:\n",
        "        print(f\"An error occurred: {e}\")\n",
        "\n",
        "def convert_md_to_html(md_file, html_file):\n",
        "    try:\n",
        "        with open(md_file, 'r', encoding='utf-8') as input_file, open(html_file, 'w', encoding='utf-8') as output_file:\n",
        "            subprocess.run(['pandoc', '-', '-o', '-'], stdin=input_file, stdout=output_file, check=True)\n",
        "        print(f\"Conversion successful: '{md_file}' to '{html_file}'\")\n",
        "    except subprocess.CalledProcessError as e:\n",
        "        print(f\"An error occurred: {e}\")\n",
        "\n",
        "# Example usage\n",
        "docx_path = 'Artistoo_Test.docx'\n",
        "md_path = 'Artistoo_Test.md'\n",
        "convert_docx_to_md(docx_path, md_path)\n",
        "\n",
        "html_path = 'Artistoo_Test.html'\n",
        "convert_md_to_html(md_path, html_path)"
      ],
      "metadata": {
        "colab": {
          "base_uri": "https://localhost:8080/"
        },
        "id": "jTzuYNPOPuBQ",
        "outputId": "cf652c18-7f3d-4875-f79f-3fddb834c7b9"
      },
      "execution_count": null,
      "outputs": [
        {
          "output_type": "stream",
          "name": "stdout",
          "text": [
            "Conversion successful: 'Artistoo_Test.docx' to 'Artistoo_Test.md'\n",
            "Conversion successful: 'Artistoo_Test.md' to 'Artistoo_Test.html'\n"
          ]
        }
      ]
    },
    {
      "cell_type": "markdown",
      "source": [
        "## Python function -> docx to md"
      ],
      "metadata": {
        "id": "ahyGAupqrbm8"
      }
    },
    {
      "cell_type": "code",
      "source": [
        "# Converting word document to markdown\n",
        "def convert_docx_to_md(docx_file, md_file):\n",
        "    try:\n",
        "        subprocess.run(['pandoc', '-s', docx_file, '-o', md_file], check=True)\n",
        "        print(f\"Conversion successful: '{docx_file}' to '{md_file}'\")\n",
        "    except subprocess.CalledProcessError as e:\n",
        "        print(f\"An error occurred: {e}\")\n",
        "\n",
        "path = 'AboutUs_Test.docx'\n",
        "convert_docx_to_md(path, 'AboutUs_Test.md')"
      ],
      "metadata": {
        "colab": {
          "base_uri": "https://localhost:8080/"
        },
        "id": "2ZS3qHn3rgv4",
        "outputId": "eb18839f-f34f-40b5-8acb-9e3b250b10a0"
      },
      "execution_count": null,
      "outputs": [
        {
          "output_type": "stream",
          "name": "stdout",
          "text": [
            "An error occurred: Command '['pandoc', '-s', 'AboutUs_Test.docx', '-o', 'AboutUs_Test.md']' returned non-zero exit status 1.\n"
          ]
        }
      ]
    },
    {
      "cell_type": "markdown",
      "source": [
        "### Python functioon -> md to html"
      ],
      "metadata": {
        "id": "LNT9d9iRr5jH"
      }
    },
    {
      "cell_type": "code",
      "source": [
        "def convert_md_to_html(md_file, html_file):\n",
        "    try:\n",
        "        subprocess.run(['pandoc', md_file, '-o', html_file], check=True)\n",
        "        print(f\"Conversion successful: '{md_file}' to '{html_file}'\")\n",
        "    except subprocess.CalledProcessError as e:\n",
        "        print(f\"An error occurred: {e}\")\n",
        "\n",
        "# Example usage\n",
        "md_path = 'Artistoo_Test.md'\n",
        "html_path = 'Artistoo_Test.html'\n",
        "convert_md_to_html(md_path, html_path)"
      ],
      "metadata": {
        "colab": {
          "base_uri": "https://localhost:8080/"
        },
        "id": "qbHfjAIes0Ia",
        "outputId": "d8f65dd2-24a1-48e6-8784-5136b5040f8b"
      },
      "execution_count": null,
      "outputs": [
        {
          "output_type": "stream",
          "name": "stdout",
          "text": [
            "Conversion successful: 'Artistoo_Test.md' to 'Artistoo_Test.html'\n"
          ]
        }
      ]
    },
    {
      "cell_type": "markdown",
      "source": [
        "### Python functioon -> md to pdf"
      ],
      "metadata": {
        "id": "Y9KGoW5ds5LF"
      }
    },
    {
      "cell_type": "code",
      "source": [
        "def convert_md_to_pdf(md_file, pdf_file):\n",
        "    try:\n",
        "        subprocess.run(['pandoc', md_file, '-o', pdf_file], check=True)\n",
        "        print(f\"Conversion successful: '{md_file}' to '{pdf_file}'\")\n",
        "    except subprocess.CalledProcessError as e:\n",
        "        print(f\"An error occurred: {e}\")\n",
        "\n",
        "# Example usage\n",
        "md_path = 'Data_Curation.md'\n",
        "pdf_path = 'Data_Curation.pdf'\n",
        "convert_md_to_pdf(md_path, pdf_path)"
      ],
      "metadata": {
        "id": "fGQBcV-Kr4RX"
      },
      "execution_count": null,
      "outputs": []
    },
    {
      "cell_type": "markdown",
      "source": [
        "## Python function -> docx to tex"
      ],
      "metadata": {
        "id": "ENZ6l-irapex"
      }
    },
    {
      "cell_type": "code",
      "source": [
        "# Converting word document to Latex\n",
        "def convert_docx_to_tex(docx_file, tex_file):\n",
        "    try:\n",
        "        subprocess.run(['pandoc', '-s', docx_file, '-o', tex_file], check=True)\n",
        "        print(f\"Conversion successful: '{docx_file}' to '{tex_file}'\")\n",
        "    except subprocess.CalledProcessError as e:\n",
        "        print(f\"An error occurred: {e}\")\n",
        "\n",
        "path = '/content/Data_Curation_KO.docx'\n",
        "\n",
        "convert_docx_to_tex(path, 'Data_Curation.tex')"
      ],
      "metadata": {
        "colab": {
          "base_uri": "https://localhost:8080/"
        },
        "id": "shjys7kqUrvh",
        "outputId": "1886bb8b-6ed9-4250-8bd1-25aa9280681f"
      },
      "execution_count": null,
      "outputs": [
        {
          "output_type": "stream",
          "name": "stdout",
          "text": [
            "Conversion successful: '/content/Data_Curation_KO.docx' to 'Data_Curation.tex'\n"
          ]
        }
      ]
    },
    {
      "cell_type": "code",
      "source": [
        "path = 'Data_Curation.tex' # LaTeX file\n",
        "\n",
        "# Read and display the content of your LaTeX file\n",
        "with open(path, 'r') as file:\n",
        "    latex_content = file.read()\n",
        "\n",
        "print(latex_content)"
      ],
      "metadata": {
        "id": "BH5Ly5HOUrr4"
      },
      "execution_count": null,
      "outputs": []
    },
    {
      "cell_type": "markdown",
      "source": [
        "### TinyTeX -> LaTeX to pdf\n",
        "\n",
        "TinyTex -> Minimal LaTeX distribution.\n",
        "\n",
        "TinyTeX is a lightweight version of TeX Live, which is suitable for compiling most LaTeX documents."
      ],
      "metadata": {
        "id": "ByCejtvcbgEB"
      }
    },
    {
      "cell_type": "code",
      "source": [
        "!wget -qO- \"https://yihui.org/tinytex/install-bin-unix.sh\" | sh\n",
        "os.environ['PATH'] += \":/root/.TinyTeX/bin/x86_64-linux/\""
      ],
      "metadata": {
        "id": "i-o3Wgw3Urpi"
      },
      "execution_count": null,
      "outputs": []
    },
    {
      "cell_type": "code",
      "source": [
        "!tlmgr install latexmk # installing necessary LaTeX packages -> latexmk is for LaTex compilation automation"
      ],
      "metadata": {
        "colab": {
          "base_uri": "https://localhost:8080/"
        },
        "id": "WO1vFff6Wrgr",
        "outputId": "25b624fa-21f8-43ad-9e59-7cbc30d3fd5b"
      },
      "execution_count": null,
      "outputs": [
        {
          "output_type": "stream",
          "name": "stdout",
          "text": [
            "tlmgr: package repository https://mirrors.rit.edu/CTAN/systems/texlive/tlnet (verified)\n",
            "tlmgr install: package already present: latexmk\n"
          ]
        }
      ]
    },
    {
      "cell_type": "code",
      "source": [
        "!latexmk -pdf /content/Data_Curation.tex # compile the LaTeX file"
      ],
      "metadata": {
        "id": "mPRq5-2LX9Dq"
      },
      "execution_count": null,
      "outputs": []
    },
    {
      "cell_type": "code",
      "source": [],
      "metadata": {
        "id": "TkNM0GkcDcOS"
      },
      "execution_count": null,
      "outputs": []
    },
    {
      "cell_type": "code",
      "source": [],
      "metadata": {
        "id": "NCh8uKk-DfOr"
      },
      "execution_count": null,
      "outputs": []
    },
    {
      "cell_type": "code",
      "source": [],
      "metadata": {
        "id": "JvxKkM3hDfMu"
      },
      "execution_count": null,
      "outputs": []
    },
    {
      "cell_type": "markdown",
      "source": [
        "# RAG"
      ],
      "metadata": {
        "id": "MH17itayEvj7"
      }
    },
    {
      "cell_type": "code",
      "source": [
        "!pip install transformers datasets"
      ],
      "metadata": {
        "id": "dua7gYTgDgVN"
      },
      "execution_count": null,
      "outputs": []
    }
  ]
}